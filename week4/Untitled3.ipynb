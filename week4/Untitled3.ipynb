{
 "cells": [
  {
   "cell_type": "code",
   "execution_count": null,
   "id": "fa988f86",
   "metadata": {},
   "outputs": [],
   "source": [
    "import multiprocessing\n",
    "\n",
    "def calculate_optimal_range(start, end):\n",
    "    optimal = 1\n",
    "    for i in range(start, end):\n",
    "        if optimal < i * 7 - i + 3:\n",
    "            optimal = i * 7 - i + 3\n",
    "    return optimal,i\n",
    "print('joo')\n",
    "num_cores = multiprocessing.cpu_count()\n",
    "start = 0\n",
    "end = 100\n",
    "\n",
    "# Split the range into chunks for parallel processing\n",
    "chunk_size = (end - start) // num_cores\n",
    "chunks = [(i, i + chunk_size) for i in range(start, end, chunk_size)]\n",
    "\n",
    "# Create a pool of worker processes\n",
    "pool = multiprocessing.Pool(processes=num_cores)\n",
    "\n",
    "# Calculate the optimal values in parallel\n",
    "results = pool.starmap(calculate_optimal_range, chunks)\n",
    "\n",
    "# Close the pool and wait for all processes to finish\n",
    "pool.close()\n",
    "pool.join()\n",
    "\n",
    "# Find the overall optimal value\n",
    "overall_optimal = max(results)\n",
    "\n",
    "print(\"Overall optimal value:\", overall_optimal)"
   ]
  }
 ],
 "metadata": {
  "kernelspec": {
   "display_name": "Python 3 (ipykernel)",
   "language": "python",
   "name": "python3"
  },
  "language_info": {
   "codemirror_mode": {
    "name": "ipython",
    "version": 3
   },
   "file_extension": ".py",
   "mimetype": "text/x-python",
   "name": "python",
   "nbconvert_exporter": "python",
   "pygments_lexer": "ipython3",
   "version": "3.9.16"
  }
 },
 "nbformat": 4,
 "nbformat_minor": 5
}
